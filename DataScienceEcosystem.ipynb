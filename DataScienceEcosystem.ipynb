{
 "cells": [
  {
   "cell_type": "markdown",
   "id": "c78741ec-ddfc-4bd7-aefe-7a74b5742b41",
   "metadata": {},
   "source": [
    "<h1>Data Science Tools and Ecosystem</h1>"
   ]
  },
  {
   "cell_type": "markdown",
   "id": "4ad01982-2268-49ec-b8d8-b0a84022adaa",
   "metadata": {},
   "source": [
    "In this notebook, Data Science Tools and Ecosystem are summarized."
   ]
  },
  {
   "cell_type": "markdown",
   "id": "2882c47b-77aa-40f9-9757-7bd1bcd9f6c6",
   "metadata": {},
   "source": [
    "Some of the popular languages that Data Scientists use are:\n",
    "1. Python\n",
    "2. R\n",
    "3. HTML/css etc."
   ]
  },
  {
   "cell_type": "markdown",
   "id": "406c3470-6298-43a4-a704-4764b7e29ccf",
   "metadata": {},
   "source": [
    "Some of the commonly used libraries used by Data Scientists include:\n",
    "- pandas\n",
    "- NLP toolkit\n",
    "- numpy\n",
    "- etc."
   ]
  },
  {
   "cell_type": "markdown",
   "id": "6d4ff48c-dfaa-4b03-b9c8-2b8f80ad4ff4",
   "metadata": {},
   "source": [
    "| Data Science Tools |\n",
    "|:-------------------|\n",
    "| Jupyter Notebook   |\n",
    "| Spyder             |\n",
    "| RStudio            |\n"
   ]
  },
  {
   "cell_type": "markdown",
   "id": "e8223ab5-0cca-48ce-869b-2a45b1a2b5ec",
   "metadata": {},
   "source": [
    "<h3>Below are a few examples of evaluating arithmetic expressions in Python.</h3>"
   ]
  },
  {
   "cell_type": "code",
   "execution_count": 1,
   "id": "0847cca4-d488-4a8f-9d37-c733c3967dbf",
   "metadata": {},
   "outputs": [
    {
     "data": {
      "text/plain": [
       "17"
      ]
     },
     "execution_count": 1,
     "metadata": {},
     "output_type": "execute_result"
    }
   ],
   "source": [
    "# This is a simple arithmetic expression to multiply then add integers.\n",
    "(3*4) + 5"
   ]
  },
  {
   "cell_type": "code",
   "execution_count": 2,
   "id": "c65aa9d1-6d02-4c71-97de-b971207379d2",
   "metadata": {},
   "outputs": [
    {
     "data": {
      "text/plain": [
       "3.3333333333333335"
      ]
     },
     "execution_count": 2,
     "metadata": {},
     "output_type": "execute_result"
    }
   ],
   "source": [
    "# This will convert 200 minutes to hours by dividing by 60.\n",
    "200 / 60\n"
   ]
  },
  {
   "cell_type": "markdown",
   "id": "3c6ef393-9f22-4b6b-8b95-69c6d42775f0",
   "metadata": {},
   "source": [
    "**Objectives:**\n",
    "\n",
    "- List popular languages and IDEs for Data Science  \n",
    "- Create and format tables in Markdown  \n",
    "- Perform simple arithmetic operations in code cells  \n",
    "- Convert units (e.g., minutes to hours) programmatically  \n",
    "- Differentiate between Markdown and code cells in Jupyter"
   ]
  },
  {
   "cell_type": "markdown",
   "id": "ca6ea56d-c8c7-4459-90c1-7a03b27e4433",
   "metadata": {},
   "source": [
    "## Author\n",
    "\n",
    "Hugo Marcos"
   ]
  },
  {
   "cell_type": "code",
   "execution_count": null,
   "id": "01757473-eb5d-4e98-88d8-30a42cc48eff",
   "metadata": {},
   "outputs": [],
   "source": []
  }
 ],
 "metadata": {
  "kernelspec": {
   "display_name": "Python 3 (ipykernel)",
   "language": "python",
   "name": "python3"
  },
  "language_info": {
   "codemirror_mode": {
    "name": "ipython",
    "version": 3
   },
   "file_extension": ".py",
   "mimetype": "text/x-python",
   "name": "python",
   "nbconvert_exporter": "python",
   "pygments_lexer": "ipython3",
   "version": "3.12.8"
  }
 },
 "nbformat": 4,
 "nbformat_minor": 5
}
